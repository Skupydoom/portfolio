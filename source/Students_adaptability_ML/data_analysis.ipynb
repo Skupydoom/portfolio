{
 "cells": [
  {
   "cell_type": "code",
   "execution_count": 1,
   "id": "68809ab3-2cbd-4dca-a984-e9e252a97bdb",
   "metadata": {},
   "outputs": [],
   "source": [
    "import numpy as np\n",
    "import pandas as pd\n",
    "from sklearn.model_selection import train_test_split, GridSearchCV, cross_val_score, RandomizedSearchCV\n",
    "import matplotlib.pyplot as plt\n",
    "import seaborn as sns\n",
    "from sklearn.metrics import mutual_info_score, accuracy_score, f1_score, log_loss\n",
    "from IPython.display import display\n",
    "\n",
    "from sklearn.linear_model import LogisticRegression\n",
    "from sklearn.ensemble import RandomForestClassifier, StackingClassifier\n",
    "from sklearn.svm import SVC\n",
    "from sklearn.pipeline import Pipeline\n",
    "from sklearn.preprocessing import OneHotEncoder, LabelEncoder\n",
    "from sklearn.compose import ColumnTransformer\n",
    "\n",
    "import catboost"
   ]
  },
  {
   "cell_type": "code",
   "execution_count": 2,
   "id": "a3042939-a874-4ccd-a76d-8693464ba8e9",
   "metadata": {},
   "outputs": [
    {
     "name": "stdout",
     "output_type": "stream",
     "text": [
      "__pycache__\n",
      "catboost_info\n",
      "common_module.py\n",
      "data_analysis.ipynb\n",
      "model.bin\n",
      "predict.py\n",
      "predict_test.py\n",
      "README.md\n",
      "students_adaptability_level_online_education.csv\n",
      "tempCodeRunnerFile.py\n",
      "train.py\n"
     ]
    }
   ],
   "source": [
    "!ls"
   ]
  },
  {
   "cell_type": "code",
   "execution_count": 3,
   "id": "fe66e4c9-c8c1-4816-ad84-a3581c4f289d",
   "metadata": {},
   "outputs": [],
   "source": [
    "raw_df = pd.read_csv(\"students_adaptability_level_online_education.csv\")"
   ]
  },
  {
   "cell_type": "markdown",
   "id": "f351c635-fcba-48f1-ad44-0d01360e330f",
   "metadata": {},
   "source": [
    "There are all columns of the data:"
   ]
  },
  {
   "cell_type": "code",
   "execution_count": 4,
   "id": "3e640f9d-c0c3-44f2-b37e-c13c0c28908d",
   "metadata": {},
   "outputs": [
    {
     "data": {
      "text/plain": [
       "['Gender',\n",
       " 'Age',\n",
       " 'Education Level',\n",
       " 'Institution Type',\n",
       " 'IT Student',\n",
       " 'Location',\n",
       " 'Load-shedding',\n",
       " 'Financial Condition',\n",
       " 'Internet Type',\n",
       " 'Network Type',\n",
       " 'Class Duration',\n",
       " 'Self Lms',\n",
       " 'Device',\n",
       " 'Adaptivity Level']"
      ]
     },
     "execution_count": 4,
     "metadata": {},
     "output_type": "execute_result"
    }
   ],
   "source": [
    "raw_df.columns.to_list()"
   ]
  },
  {
   "cell_type": "markdown",
   "id": "c3a1bdb6-e820-4d3b-999b-7bbb7d233987",
   "metadata": {},
   "source": [
    "# Data split"
   ]
  },
  {
   "cell_type": "markdown",
   "id": "1fde20a8-f95d-47ff-9297-b23eb44ae19f",
   "metadata": {},
   "source": [
    "I will divide the data into 2 parts before exploratory data analysis (EDA): full_train and test. This will prevent data leaks."
   ]
  },
  {
   "cell_type": "code",
   "execution_count": 5,
   "id": "ac12f899-f0f6-46da-97aa-02ca61a2d70a",
   "metadata": {},
   "outputs": [],
   "source": [
    "raw_X = raw_df.drop(\"Adaptivity Level\", axis=1)\n",
    "raw_y = raw_df[\"Adaptivity Level\"]"
   ]
  },
  {
   "cell_type": "code",
   "execution_count": 6,
   "id": "86836955-0d29-4356-847f-f81955188589",
   "metadata": {},
   "outputs": [],
   "source": [
    "X_full_train, X_test, y_full_train, y_test = train_test_split(raw_X, raw_y, test_size=0.2, random_state=1)\n",
    "\n",
    "X_full_train.reset_index(drop=True, inplace=True)\n",
    "X_test.reset_index(drop=True, inplace=True)\n",
    "y_full_train.reset_index(drop=True, inplace=True)\n",
    "y_test.reset_index(drop=True, inplace=True)"
   ]
  },
  {
   "cell_type": "markdown",
   "id": "b3c0715b-120a-421d-9059-5d3ce2d4c27d",
   "metadata": {},
   "source": [
    "Checking that they split up correctly:"
   ]
  },
  {
   "cell_type": "code",
   "execution_count": 7,
   "id": "6535ace6-3799-45c8-aee0-3168ba48a590",
   "metadata": {},
   "outputs": [
    {
     "data": {
      "text/plain": [
       "(964, 964, 241, 241)"
      ]
     },
     "execution_count": 7,
     "metadata": {},
     "output_type": "execute_result"
    }
   ],
   "source": [
    "X_full_train.shape[0], y_full_train.shape[0], X_test.shape[0], y_test.shape[0]"
   ]
  },
  {
   "cell_type": "code",
   "execution_count": 8,
   "id": "f742ff49-1fe7-42ed-a792-6e84fc75fdf9",
   "metadata": {},
   "outputs": [
    {
     "data": {
      "text/plain": [
       "0.8"
      ]
     },
     "execution_count": 8,
     "metadata": {},
     "output_type": "execute_result"
    }
   ],
   "source": [
    "X_full_train.shape[0] / (X_full_train.shape[0] + X_test.shape[0])"
   ]
  },
  {
   "cell_type": "markdown",
   "id": "1b22445b-3528-4d44-990e-033e99605906",
   "metadata": {},
   "source": [
    "# Data preprocessing and preliminary analysis"
   ]
  },
  {
   "cell_type": "markdown",
   "id": "27d7011e-7fb7-4aa5-bd44-9d1cdedd400d",
   "metadata": {},
   "source": [
    "Now I can look at some raws of the data."
   ]
  },
  {
   "cell_type": "code",
   "execution_count": 9,
   "id": "2defbde0-b3c4-4e6d-b1d9-b3f8efd6e001",
   "metadata": {},
   "outputs": [
    {
     "data": {
      "text/html": [
       "<div>\n",
       "<style scoped>\n",
       "    .dataframe tbody tr th:only-of-type {\n",
       "        vertical-align: middle;\n",
       "    }\n",
       "\n",
       "    .dataframe tbody tr th {\n",
       "        vertical-align: top;\n",
       "    }\n",
       "\n",
       "    .dataframe thead th {\n",
       "        text-align: right;\n",
       "    }\n",
       "</style>\n",
       "<table border=\"1\" class=\"dataframe\">\n",
       "  <thead>\n",
       "    <tr style=\"text-align: right;\">\n",
       "      <th></th>\n",
       "      <th>Gender</th>\n",
       "      <th>Age</th>\n",
       "      <th>Education Level</th>\n",
       "      <th>Institution Type</th>\n",
       "      <th>IT Student</th>\n",
       "      <th>Location</th>\n",
       "      <th>Load-shedding</th>\n",
       "      <th>Financial Condition</th>\n",
       "      <th>Internet Type</th>\n",
       "      <th>Network Type</th>\n",
       "      <th>Class Duration</th>\n",
       "      <th>Self Lms</th>\n",
       "      <th>Device</th>\n",
       "    </tr>\n",
       "  </thead>\n",
       "  <tbody>\n",
       "    <tr>\n",
       "      <th>0</th>\n",
       "      <td>Boy</td>\n",
       "      <td>16-20</td>\n",
       "      <td>College</td>\n",
       "      <td>Government</td>\n",
       "      <td>No</td>\n",
       "      <td>Yes</td>\n",
       "      <td>High</td>\n",
       "      <td>Mid</td>\n",
       "      <td>Wifi</td>\n",
       "      <td>4G</td>\n",
       "      <td>1-3</td>\n",
       "      <td>No</td>\n",
       "      <td>Mobile</td>\n",
       "    </tr>\n",
       "    <tr>\n",
       "      <th>1</th>\n",
       "      <td>Boy</td>\n",
       "      <td>11-15</td>\n",
       "      <td>School</td>\n",
       "      <td>Non Government</td>\n",
       "      <td>No</td>\n",
       "      <td>Yes</td>\n",
       "      <td>Low</td>\n",
       "      <td>Mid</td>\n",
       "      <td>Mobile Data</td>\n",
       "      <td>4G</td>\n",
       "      <td>1-3</td>\n",
       "      <td>No</td>\n",
       "      <td>Mobile</td>\n",
       "    </tr>\n",
       "    <tr>\n",
       "      <th>2</th>\n",
       "      <td>Boy</td>\n",
       "      <td>1-5</td>\n",
       "      <td>School</td>\n",
       "      <td>Non Government</td>\n",
       "      <td>No</td>\n",
       "      <td>Yes</td>\n",
       "      <td>Low</td>\n",
       "      <td>Mid</td>\n",
       "      <td>Wifi</td>\n",
       "      <td>4G</td>\n",
       "      <td>1-3</td>\n",
       "      <td>No</td>\n",
       "      <td>Mobile</td>\n",
       "    </tr>\n",
       "    <tr>\n",
       "      <th>3</th>\n",
       "      <td>Boy</td>\n",
       "      <td>16-20</td>\n",
       "      <td>College</td>\n",
       "      <td>Government</td>\n",
       "      <td>No</td>\n",
       "      <td>Yes</td>\n",
       "      <td>Low</td>\n",
       "      <td>Mid</td>\n",
       "      <td>Wifi</td>\n",
       "      <td>4G</td>\n",
       "      <td>1-3</td>\n",
       "      <td>No</td>\n",
       "      <td>Mobile</td>\n",
       "    </tr>\n",
       "    <tr>\n",
       "      <th>4</th>\n",
       "      <td>Girl</td>\n",
       "      <td>21-25</td>\n",
       "      <td>University</td>\n",
       "      <td>Non Government</td>\n",
       "      <td>Yes</td>\n",
       "      <td>Yes</td>\n",
       "      <td>High</td>\n",
       "      <td>Mid</td>\n",
       "      <td>Wifi</td>\n",
       "      <td>4G</td>\n",
       "      <td>1-3</td>\n",
       "      <td>No</td>\n",
       "      <td>Mobile</td>\n",
       "    </tr>\n",
       "  </tbody>\n",
       "</table>\n",
       "</div>"
      ],
      "text/plain": [
       "  Gender    Age Education Level Institution Type IT Student Location  \\\n",
       "0    Boy  16-20         College       Government         No      Yes   \n",
       "1    Boy  11-15          School   Non Government         No      Yes   \n",
       "2    Boy    1-5          School   Non Government         No      Yes   \n",
       "3    Boy  16-20         College       Government         No      Yes   \n",
       "4   Girl  21-25      University   Non Government        Yes      Yes   \n",
       "\n",
       "  Load-shedding Financial Condition Internet Type Network Type Class Duration  \\\n",
       "0          High                 Mid          Wifi           4G            1-3   \n",
       "1           Low                 Mid   Mobile Data           4G            1-3   \n",
       "2           Low                 Mid          Wifi           4G            1-3   \n",
       "3           Low                 Mid          Wifi           4G            1-3   \n",
       "4          High                 Mid          Wifi           4G            1-3   \n",
       "\n",
       "  Self Lms  Device  \n",
       "0       No  Mobile  \n",
       "1       No  Mobile  \n",
       "2       No  Mobile  \n",
       "3       No  Mobile  \n",
       "4       No  Mobile  "
      ]
     },
     "execution_count": 9,
     "metadata": {},
     "output_type": "execute_result"
    }
   ],
   "source": [
    "X_full_train.head()"
   ]
  },
  {
   "cell_type": "markdown",
   "id": "d07c9adb-a736-4d85-ad3e-3e8f35872755",
   "metadata": {},
   "source": [
    "Lower the case of letters and replace spaces with underscores:"
   ]
  },
  {
   "cell_type": "code",
   "execution_count": 10,
   "id": "5cfbfd0c-b97c-411c-8caa-b95efef35f0b",
   "metadata": {},
   "outputs": [],
   "source": [
    "X_full_train.columns = X_full_train.columns.str.replace(\" \", \"_\").str.lower()"
   ]
  },
  {
   "cell_type": "markdown",
   "id": "76ca8e1c-a5bb-4b0e-90b1-9cef7ab21cd8",
   "metadata": {},
   "source": [
    "The column names now look good. It can be done for values too. But first I will display if there is missing data:"
   ]
  },
  {
   "cell_type": "code",
   "execution_count": 11,
   "id": "90710f98-e30e-45ed-8608-903e4c4317a1",
   "metadata": {},
   "outputs": [
    {
     "data": {
      "text/plain": [
       "gender                 0\n",
       "age                    0\n",
       "education_level        0\n",
       "institution_type       0\n",
       "it_student             0\n",
       "location               0\n",
       "load-shedding          0\n",
       "financial_condition    0\n",
       "internet_type          0\n",
       "network_type           0\n",
       "class_duration         0\n",
       "self_lms               0\n",
       "device                 0\n",
       "dtype: int64"
      ]
     },
     "execution_count": 11,
     "metadata": {},
     "output_type": "execute_result"
    }
   ],
   "source": [
    "X_full_train.isna().sum()"
   ]
  },
  {
   "cell_type": "markdown",
   "id": "33f0dda6-84bd-485c-9235-27681c66ce21",
   "metadata": {},
   "source": [
    "I am lucky, there is 0 NaN values here."
   ]
  },
  {
   "cell_type": "code",
   "execution_count": 12,
   "id": "9913221f-4f36-466b-9939-758a6dc5ca67",
   "metadata": {},
   "outputs": [
    {
     "name": "stdout",
     "output_type": "stream",
     "text": [
      "<class 'pandas.core.frame.DataFrame'>\n",
      "RangeIndex: 964 entries, 0 to 963\n",
      "Data columns (total 13 columns):\n",
      " #   Column               Non-Null Count  Dtype \n",
      "---  ------               --------------  ----- \n",
      " 0   gender               964 non-null    object\n",
      " 1   age                  964 non-null    object\n",
      " 2   education_level      964 non-null    object\n",
      " 3   institution_type     964 non-null    object\n",
      " 4   it_student           964 non-null    object\n",
      " 5   location             964 non-null    object\n",
      " 6   load-shedding        964 non-null    object\n",
      " 7   financial_condition  964 non-null    object\n",
      " 8   internet_type        964 non-null    object\n",
      " 9   network_type         964 non-null    object\n",
      " 10  class_duration       964 non-null    object\n",
      " 11  self_lms             964 non-null    object\n",
      " 12  device               964 non-null    object\n",
      "dtypes: object(13)\n",
      "memory usage: 98.0+ KB\n"
     ]
    }
   ],
   "source": [
    "X_full_train.info()"
   ]
  },
  {
   "cell_type": "markdown",
   "id": "ccde916e-b592-412a-975e-4215b6d43398",
   "metadata": {},
   "source": [
    "Display unique values for each column:"
   ]
  },
  {
   "cell_type": "code",
   "execution_count": 13,
   "id": "c4e52fc4-06b8-4ac7-8a20-5c0cf68e8c18",
   "metadata": {},
   "outputs": [
    {
     "name": "stdout",
     "output_type": "stream",
     "text": [
      "Column: gender\n",
      "Values: ['Boy', 'Girl'] \n",
      "\n",
      "Column: age\n",
      "Values: ['16-20', '11-15', '1-5', '21-25', '6-10', '26-30'] \n",
      "\n",
      "Column: education_level\n",
      "Values: ['College', 'School', 'University'] \n",
      "\n",
      "Column: institution_type\n",
      "Values: ['Government', 'Non Government'] \n",
      "\n",
      "Column: it_student\n",
      "Values: ['No', 'Yes'] \n",
      "\n",
      "Column: location\n",
      "Values: ['Yes', 'No'] \n",
      "\n",
      "Column: load-shedding\n",
      "Values: ['High', 'Low'] \n",
      "\n",
      "Column: financial_condition\n",
      "Values: ['Mid', 'Rich', 'Poor'] \n",
      "\n",
      "Column: internet_type\n",
      "Values: ['Wifi', 'Mobile Data'] \n",
      "\n",
      "Column: network_type\n",
      "Values: ['4G', '3G', '2G'] \n",
      "\n",
      "Column: class_duration\n",
      "Values: ['1-3', '3-6', '0'] \n",
      "\n",
      "Column: self_lms\n",
      "Values: ['No', 'Yes'] \n",
      "\n",
      "Column: device\n",
      "Values: ['Mobile', 'Computer', 'Tab'] \n",
      "\n"
     ]
    }
   ],
   "source": [
    "cols = X_full_train.columns.tolist()\n",
    "\n",
    "for c in cols:\n",
    "    print(f\"Column: {c}\\nValues:\", X_full_train[c].unique().tolist(), \"\\n\")"
   ]
  },
  {
   "cell_type": "markdown",
   "id": "7786932f-433b-4c0c-a7fb-aeb7259f5888",
   "metadata": {},
   "source": [
    "And unique values of the target variable, \"Adaptivity level\":"
   ]
  },
  {
   "cell_type": "code",
   "execution_count": 14,
   "id": "fad0b755-ca04-41a5-a222-7df288bccfd2",
   "metadata": {},
   "outputs": [
    {
     "data": {
      "text/plain": [
       "['Moderate', 'Low', 'High']"
      ]
     },
     "execution_count": 14,
     "metadata": {},
     "output_type": "execute_result"
    }
   ],
   "source": [
    "y_full_train.unique().tolist()"
   ]
  },
  {
   "cell_type": "markdown",
   "id": "87db942e-367a-45da-9065-c0617a936253",
   "metadata": {},
   "source": [
    "Nothing suspicious."
   ]
  },
  {
   "cell_type": "code",
   "execution_count": 15,
   "id": "88330621-c82a-4615-bc30-d4b5b4ad62f8",
   "metadata": {},
   "outputs": [],
   "source": [
    "cols_str = cols.copy()\n",
    "cols_str.remove(\"age\")\n",
    "cols_str.remove(\"class_duration\")\n",
    "\n",
    "X_full_train[cols_str] = X_full_train[cols_str].apply(lambda x : x.str.lower().str.replace(' ','_'))"
   ]
  },
  {
   "cell_type": "code",
   "execution_count": 16,
   "id": "db9c05fb-e37b-4c72-9f34-d4c14417d633",
   "metadata": {},
   "outputs": [
    {
     "data": {
      "text/html": [
       "<div>\n",
       "<style scoped>\n",
       "    .dataframe tbody tr th:only-of-type {\n",
       "        vertical-align: middle;\n",
       "    }\n",
       "\n",
       "    .dataframe tbody tr th {\n",
       "        vertical-align: top;\n",
       "    }\n",
       "\n",
       "    .dataframe thead th {\n",
       "        text-align: right;\n",
       "    }\n",
       "</style>\n",
       "<table border=\"1\" class=\"dataframe\">\n",
       "  <thead>\n",
       "    <tr style=\"text-align: right;\">\n",
       "      <th></th>\n",
       "      <th>gender</th>\n",
       "      <th>age</th>\n",
       "      <th>education_level</th>\n",
       "      <th>institution_type</th>\n",
       "      <th>it_student</th>\n",
       "      <th>location</th>\n",
       "      <th>load-shedding</th>\n",
       "      <th>financial_condition</th>\n",
       "      <th>internet_type</th>\n",
       "      <th>network_type</th>\n",
       "      <th>class_duration</th>\n",
       "      <th>self_lms</th>\n",
       "      <th>device</th>\n",
       "    </tr>\n",
       "  </thead>\n",
       "  <tbody>\n",
       "    <tr>\n",
       "      <th>0</th>\n",
       "      <td>boy</td>\n",
       "      <td>16-20</td>\n",
       "      <td>college</td>\n",
       "      <td>government</td>\n",
       "      <td>no</td>\n",
       "      <td>yes</td>\n",
       "      <td>high</td>\n",
       "      <td>mid</td>\n",
       "      <td>wifi</td>\n",
       "      <td>4g</td>\n",
       "      <td>1-3</td>\n",
       "      <td>no</td>\n",
       "      <td>mobile</td>\n",
       "    </tr>\n",
       "    <tr>\n",
       "      <th>1</th>\n",
       "      <td>boy</td>\n",
       "      <td>11-15</td>\n",
       "      <td>school</td>\n",
       "      <td>non_government</td>\n",
       "      <td>no</td>\n",
       "      <td>yes</td>\n",
       "      <td>low</td>\n",
       "      <td>mid</td>\n",
       "      <td>mobile_data</td>\n",
       "      <td>4g</td>\n",
       "      <td>1-3</td>\n",
       "      <td>no</td>\n",
       "      <td>mobile</td>\n",
       "    </tr>\n",
       "    <tr>\n",
       "      <th>2</th>\n",
       "      <td>boy</td>\n",
       "      <td>1-5</td>\n",
       "      <td>school</td>\n",
       "      <td>non_government</td>\n",
       "      <td>no</td>\n",
       "      <td>yes</td>\n",
       "      <td>low</td>\n",
       "      <td>mid</td>\n",
       "      <td>wifi</td>\n",
       "      <td>4g</td>\n",
       "      <td>1-3</td>\n",
       "      <td>no</td>\n",
       "      <td>mobile</td>\n",
       "    </tr>\n",
       "  </tbody>\n",
       "</table>\n",
       "</div>"
      ],
      "text/plain": [
       "  gender    age education_level institution_type it_student location  \\\n",
       "0    boy  16-20         college       government         no      yes   \n",
       "1    boy  11-15          school   non_government         no      yes   \n",
       "2    boy    1-5          school   non_government         no      yes   \n",
       "\n",
       "  load-shedding financial_condition internet_type network_type class_duration  \\\n",
       "0          high                 mid          wifi           4g            1-3   \n",
       "1           low                 mid   mobile_data           4g            1-3   \n",
       "2           low                 mid          wifi           4g            1-3   \n",
       "\n",
       "  self_lms  device  \n",
       "0       no  mobile  \n",
       "1       no  mobile  \n",
       "2       no  mobile  "
      ]
     },
     "execution_count": 16,
     "metadata": {},
     "output_type": "execute_result"
    }
   ],
   "source": [
    "X_full_train.head(3)"
   ]
  },
  {
   "cell_type": "markdown",
   "id": "11021855-309f-470a-96ae-171c2c1b053c",
   "metadata": {},
   "source": [
    "Colulmns \"institution_type\", \"it_student\", \"location\", \"self_lms\" are binary. I will replace them by 1 and 0:"
   ]
  },
  {
   "cell_type": "code",
   "execution_count": 17,
   "id": "dc25b5c8-c00e-4cd4-9f69-43ca72f79a41",
   "metadata": {},
   "outputs": [],
   "source": [
    "X_full_train.institution_type = X_full_train.institution_type.replace({\"government\": 1, \"non_government\": 0})\n",
    "X_full_train.it_student = X_full_train.it_student.replace({\"yes\": 1, \"no\": 0})\n",
    "X_full_train.location = X_full_train.location.replace({\"yes\": 1, \"no\": 0})\n",
    "X_full_train.self_lms = X_full_train.self_lms.replace({\"yes\": 1, \"no\": 0})"
   ]
  },
  {
   "cell_type": "markdown",
   "id": "4aa27d88-5c94-4a39-8abc-85faf4cb8ca2",
   "metadata": {},
   "source": [
    "All other columns are classes. It is better to use One Hot Encoding for their processing."
   ]
  },
  {
   "cell_type": "markdown",
   "id": "ada82745-7c25-4a32-910c-7d3374cfdb57",
   "metadata": {},
   "source": [
    "# Exploratory data analysis"
   ]
  },
  {
   "cell_type": "markdown",
   "id": "6402f006-7d28-4324-883d-03b35dce5f44",
   "metadata": {},
   "source": [
    "Show classes distribution:"
   ]
  },
  {
   "cell_type": "code",
   "execution_count": 18,
   "id": "65e36278-61aa-46e9-8692-c7a5885a1981",
   "metadata": {},
   "outputs": [],
   "source": [
    "sns.set(font_scale=1.5)"
   ]
  },
  {
   "cell_type": "code",
   "execution_count": 19,
   "id": "a2bc57ba-c472-4c92-9d4f-e54d6c3ee080",
   "metadata": {},
   "outputs": [
    {
     "data": {
      "image/png": "[encoded data removed]",
      "text/plain": [
       "<Figure size 1296x1296 with 15 Axes>"
      ]
     },
     "metadata": {},
     "output_type": "display_data"
    }
   ],
   "source": [
    "np.random.seed(1)\n",
    "\n",
    "fig, ax = plt.subplots(5, 3, figsize=(18,18))\n",
    "plt.subplots_adjust(bottom=11, top=12)\n",
    "\n",
    "x_sub = 0\n",
    "\n",
    "for col in cols:\n",
    "    values = X_full_train[col].astype(\"str\").value_counts()\n",
    "    names = values.axes[0].tolist()\n",
    "    \n",
    "    colors = [np.random.rand(3,) for _ in X_full_train[col].unique()]\n",
    "    ax.flatten()[x_sub].bar(names, values, color=colors, alpha=0.5)\n",
    "    ax.flatten()[x_sub].set_title(col)\n",
    "    \n",
    "    x_sub += 1\n",
    "\n",
    "ax.flatten()[-1].set_visible(False)\n",
    "ax.flatten()[-2].set_visible(False)"
   ]
  },
  {
   "cell_type": "markdown",
   "id": "e4ac669a-5bb8-42ac-aa76-0122a15cef6e",
   "metadata": {},
   "source": [
    "According to the graphs, it can be concluded that not all features have a uniform distribution:\n",
    "- Columns \"network_type\" and \"device\" have one class each, the valuse of which are very few;\n",
    "- The average age of the respondents is from 11 to 25. But the number of those students whose age is from 26 to 30 is comparable to the number of children under 10 years old.\n",
    "\n",
    "Gradient boosting models are able to work with uneven  data. I will try to use them. "
   ]
  },
  {
   "cell_type": "markdown",
   "id": "98ae34ef-9696-4dbc-b958-66e8887388e9",
   "metadata": {},
   "source": [
    "Display the number of values for all columns:"
   ]
  },
  {
   "cell_type": "code",
   "execution_count": 20,
   "id": "4868ffb3-fa6e-4870-b688-988b8bfda3a2",
   "metadata": {},
   "outputs": [
    {
     "name": "stdout",
     "output_type": "stream",
     "text": [
      "gender :\n"
     ]
    },
    {
     "data": {
      "text/html": [
       "<div>\n",
       "<style scoped>\n",
       "    .dataframe tbody tr th:only-of-type {\n",
       "        vertical-align: middle;\n",
       "    }\n",
       "\n",
       "    .dataframe tbody tr th {\n",
       "        vertical-align: top;\n",
       "    }\n",
       "\n",
       "    .dataframe thead th {\n",
       "        text-align: right;\n",
       "    }\n",
       "</style>\n",
       "<table border=\"1\" class=\"dataframe\">\n",
       "  <thead>\n",
       "    <tr style=\"text-align: right;\">\n",
       "      <th></th>\n",
       "      <th>count</th>\n",
       "      <th>percentage</th>\n",
       "    </tr>\n",
       "  </thead>\n",
       "  <tbody>\n",
       "    <tr>\n",
       "      <th>boy</th>\n",
       "      <td>522</td>\n",
       "      <td>54.15</td>\n",
       "    </tr>\n",
       "    <tr>\n",
       "      <th>girl</th>\n",
       "      <td>442</td>\n",
       "      <td>45.85</td>\n",
       "    </tr>\n",
       "  </tbody>\n",
       "</table>\n",
       "</div>"
      ],
      "text/plain": [
       "      count  percentage\n",
       "boy     522       54.15\n",
       "girl    442       45.85"
      ]
     },
     "metadata": {},
     "output_type": "display_data"
    },
    {
     "name": "stdout",
     "output_type": "stream",
     "text": [
      "age :\n"
     ]
    },
    {
     "data": {
      "text/html": [
       "<div>\n",
       "<style scoped>\n",
       "    .dataframe tbody tr th:only-of-type {\n",
       "        vertical-align: middle;\n",
       "    }\n",
       "\n",
       "    .dataframe tbody tr th {\n",
       "        vertical-align: top;\n",
       "    }\n",
       "\n",
       "    .dataframe thead th {\n",
       "        text-align: right;\n",
       "    }\n",
       "</style>\n",
       "<table border=\"1\" class=\"dataframe\">\n",
       "  <thead>\n",
       "    <tr style=\"text-align: right;\">\n",
       "      <th></th>\n",
       "      <th>count</th>\n",
       "      <th>percentage</th>\n",
       "    </tr>\n",
       "  </thead>\n",
       "  <tbody>\n",
       "    <tr>\n",
       "      <th>21-25</th>\n",
       "      <td>290</td>\n",
       "      <td>30.08</td>\n",
       "    </tr>\n",
       "    <tr>\n",
       "      <th>11-15</th>\n",
       "      <td>275</td>\n",
       "      <td>28.53</td>\n",
       "    </tr>\n",
       "    <tr>\n",
       "      <th>16-20</th>\n",
       "      <td>228</td>\n",
       "      <td>23.65</td>\n",
       "    </tr>\n",
       "    <tr>\n",
       "      <th>1-5</th>\n",
       "      <td>69</td>\n",
       "      <td>7.16</td>\n",
       "    </tr>\n",
       "    <tr>\n",
       "      <th>26-30</th>\n",
       "      <td>56</td>\n",
       "      <td>5.81</td>\n",
       "    </tr>\n",
       "    <tr>\n",
       "      <th>6-10</th>\n",
       "      <td>46</td>\n",
       "      <td>4.77</td>\n",
       "    </tr>\n",
       "  </tbody>\n",
       "</table>\n",
       "</div>"
      ],
      "text/plain": [
       "       count  percentage\n",
       "21-25    290       30.08\n",
       "11-15    275       28.53\n",
       "16-20    228       23.65\n",
       "1-5       69        7.16\n",
       "26-30     56        5.81\n",
       "6-10      46        4.77"
      ]
     },
     "metadata": {},
     "output_type": "display_data"
    },
    {
     "name": "stdout",
     "output_type": "stream",
     "text": [
      "education_level :\n"
     ]
    },
    {
     "data": {
      "text/html": [
       "<div>\n",
       "<style scoped>\n",
       "    .dataframe tbody tr th:only-of-type {\n",
       "        vertical-align: middle;\n",
       "    }\n",
       "\n",
       "    .dataframe tbody tr th {\n",
       "        vertical-align: top;\n",
       "    }\n",
       "\n",
       "    .dataframe thead th {\n",
       "        text-align: right;\n",
       "    }\n",
       "</style>\n",
       "<table border=\"1\" class=\"dataframe\">\n",
       "  <thead>\n",
       "    <tr style=\"text-align: right;\">\n",
       "      <th></th>\n",
       "      <th>count</th>\n",
       "      <th>percentage</th>\n",
       "    </tr>\n",
       "  </thead>\n",
       "  <tbody>\n",
       "    <tr>\n",
       "      <th>school</th>\n",
       "      <td>429</td>\n",
       "      <td>44.50</td>\n",
       "    </tr>\n",
       "    <tr>\n",
       "      <th>university</th>\n",
       "      <td>356</td>\n",
       "      <td>36.93</td>\n",
       "    </tr>\n",
       "    <tr>\n",
       "      <th>college</th>\n",
       "      <td>179</td>\n",
       "      <td>18.57</td>\n",
       "    </tr>\n",
       "  </tbody>\n",
       "</table>\n",
       "</div>"
      ],
      "text/plain": [
       "            count  percentage\n",
       "school        429       44.50\n",
       "university    356       36.93\n",
       "college       179       18.57"
      ]
     },
     "metadata": {},
     "output_type": "display_data"
    },
    {
     "name": "stdout",
     "output_type": "stream",
     "text": [
      "institution_type :\n"
     ]
    },
    {
     "data": {
      "text/html": [
       "<div>\n",
       "<style scoped>\n",
       "    .dataframe tbody tr th:only-of-type {\n",
       "        vertical-align: middle;\n",
       "    }\n",
       "\n",
       "    .dataframe tbody tr th {\n",
       "        vertical-align: top;\n",
       "    }\n",
       "\n",
       "    .dataframe thead th {\n",
       "        text-align: right;\n",
       "    }\n",
       "</style>\n",
       "<table border=\"1\" class=\"dataframe\">\n",
       "  <thead>\n",
       "    <tr style=\"text-align: right;\">\n",
       "      <th></th>\n",
       "      <th>count</th>\n",
       "      <th>percentage</th>\n",
       "    </tr>\n",
       "  </thead>\n",
       "  <tbody>\n",
       "    <tr>\n",
       "      <th>0</th>\n",
       "      <td>651</td>\n",
       "      <td>67.53</td>\n",
       "    </tr>\n",
       "    <tr>\n",
       "      <th>1</th>\n",
       "      <td>313</td>\n",
       "      <td>32.47</td>\n",
       "    </tr>\n",
       "  </tbody>\n",
       "</table>\n",
       "</div>"
      ],
      "text/plain": [
       "   count  percentage\n",
       "0    651       67.53\n",
       "1    313       32.47"
      ]
     },
     "metadata": {},
     "output_type": "display_data"
    },
    {
     "name": "stdout",
     "output_type": "stream",
     "text": [
      "it_student :\n"
     ]
    },
    {
     "data": {
      "text/html": [
       "<div>\n",
       "<style scoped>\n",
       "    .dataframe tbody tr th:only-of-type {\n",
       "        vertical-align: middle;\n",
       "    }\n",
       "\n",
       "    .dataframe tbody tr th {\n",
       "        vertical-align: top;\n",
       "    }\n",
       "\n",
       "    .dataframe thead th {\n",
       "        text-align: right;\n",
       "    }\n",
       "</style>\n",
       "<table border=\"1\" class=\"dataframe\">\n",
       "  <thead>\n",
       "    <tr style=\"text-align: right;\">\n",
       "      <th></th>\n",
       "      <th>count</th>\n",
       "      <th>percentage</th>\n",
       "    </tr>\n",
       "  </thead>\n",
       "  <tbody>\n",
       "    <tr>\n",
       "      <th>0</th>\n",
       "      <td>730</td>\n",
       "      <td>75.73</td>\n",
       "    </tr>\n",
       "    <tr>\n",
       "      <th>1</th>\n",
       "      <td>234</td>\n",
       "      <td>24.27</td>\n",
       "    </tr>\n",
       "  </tbody>\n",
       "</table>\n",
       "</div>"
      ],
      "text/plain": [
       "   count  percentage\n",
       "0    730       75.73\n",
       "1    234       24.27"
      ]
     },
     "metadata": {},
     "output_type": "display_data"
    },
    {
     "name": "stdout",
     "output_type": "stream",
     "text": [
      "location :\n"
     ]
    },
    {
     "data": {
      "text/html": [
       "<div>\n",
       "<style scoped>\n",
       "    .dataframe tbody tr th:only-of-type {\n",
       "        vertical-align: middle;\n",
       "    }\n",
       "\n",
       "    .dataframe tbody tr th {\n",
       "        vertical-align: top;\n",
       "    }\n",
       "\n",
       "    .dataframe thead th {\n",
       "        text-align: right;\n",
       "    }\n",
       "</style>\n",
       "<table border=\"1\" class=\"dataframe\">\n",
       "  <thead>\n",
       "    <tr style=\"text-align: right;\">\n",
       "      <th></th>\n",
       "      <th>count</th>\n",
       "      <th>percentage</th>\n",
       "    </tr>\n",
       "  </thead>\n",
       "  <tbody>\n",
       "    <tr>\n",
       "      <th>1</th>\n",
       "      <td>745</td>\n",
       "      <td>77.28</td>\n",
       "    </tr>\n",
       "    <tr>\n",
       "      <th>0</th>\n",
       "      <td>219</td>\n",
       "      <td>22.72</td>\n",
       "    </tr>\n",
       "  </tbody>\n",
       "</table>\n",
       "</div>"
      ],
      "text/plain": [
       "   count  percentage\n",
       "1    745       77.28\n",
       "0    219       22.72"
      ]
     },
     "metadata": {},
     "output_type": "display_data"
    },
    {
     "name": "stdout",
     "output_type": "stream",
     "text": [
      "load-shedding :\n"
     ]
    },
    {
     "data": {
      "text/html": [
       "<div>\n",
       "<style scoped>\n",
       "    .dataframe tbody tr th:only-of-type {\n",
       "        vertical-align: middle;\n",
       "    }\n",
       "\n",
       "    .dataframe tbody tr th {\n",
       "        vertical-align: top;\n",
       "    }\n",
       "\n",
       "    .dataframe thead th {\n",
       "        text-align: right;\n",
       "    }\n",
       "</style>\n",
       "<table border=\"1\" class=\"dataframe\">\n",
       "  <thead>\n",
       "    <tr style=\"text-align: right;\">\n",
       "      <th></th>\n",
       "      <th>count</th>\n",
       "      <th>percentage</th>\n",
       "    </tr>\n",
       "  </thead>\n",
       "  <tbody>\n",
       "    <tr>\n",
       "      <th>low</th>\n",
       "      <td>809</td>\n",
       "      <td>83.92</td>\n",
       "    </tr>\n",
       "    <tr>\n",
       "      <th>high</th>\n",
       "      <td>155</td>\n",
       "      <td>16.08</td>\n",
       "    </tr>\n",
       "  </tbody>\n",
       "</table>\n",
       "</div>"
      ],
      "text/plain": [
       "      count  percentage\n",
       "low     809       83.92\n",
       "high    155       16.08"
      ]
     },
     "metadata": {},
     "output_type": "display_data"
    },
    {
     "name": "stdout",
     "output_type": "stream",
     "text": [
      "financial_condition :\n"
     ]
    },
    {
     "data": {
      "text/html": [
       "<div>\n",
       "<style scoped>\n",
       "    .dataframe tbody tr th:only-of-type {\n",
       "        vertical-align: middle;\n",
       "    }\n",
       "\n",
       "    .dataframe tbody tr th {\n",
       "        vertical-align: top;\n",
       "    }\n",
       "\n",
       "    .dataframe thead th {\n",
       "        text-align: right;\n",
       "    }\n",
       "</style>\n",
       "<table border=\"1\" class=\"dataframe\">\n",
       "  <thead>\n",
       "    <tr style=\"text-align: right;\">\n",
       "      <th></th>\n",
       "      <th>count</th>\n",
       "      <th>percentage</th>\n",
       "    </tr>\n",
       "  </thead>\n",
       "  <tbody>\n",
       "    <tr>\n",
       "      <th>mid</th>\n",
       "      <td>695</td>\n",
       "      <td>72.10</td>\n",
       "    </tr>\n",
       "    <tr>\n",
       "      <th>poor</th>\n",
       "      <td>199</td>\n",
       "      <td>20.64</td>\n",
       "    </tr>\n",
       "    <tr>\n",
       "      <th>rich</th>\n",
       "      <td>70</td>\n",
       "      <td>7.26</td>\n",
       "    </tr>\n",
       "  </tbody>\n",
       "</table>\n",
       "</div>"
      ],
      "text/plain": [
       "      count  percentage\n",
       "mid     695       72.10\n",
       "poor    199       20.64\n",
       "rich     70        7.26"
      ]
     },
     "metadata": {},
     "output_type": "display_data"
    },
    {
     "name": "stdout",
     "output_type": "stream",
     "text": [
      "internet_type :\n"
     ]
    },
    {
     "data": {
      "text/html": [
       "<div>\n",
       "<style scoped>\n",
       "    .dataframe tbody tr th:only-of-type {\n",
       "        vertical-align: middle;\n",
       "    }\n",
       "\n",
       "    .dataframe tbody tr th {\n",
       "        vertical-align: top;\n",
       "    }\n",
       "\n",
       "    .dataframe thead th {\n",
       "        text-align: right;\n",
       "    }\n",
       "</style>\n",
       "<table border=\"1\" class=\"dataframe\">\n",
       "  <thead>\n",
       "    <tr style=\"text-align: right;\">\n",
       "      <th></th>\n",
       "      <th>count</th>\n",
       "      <th>percentage</th>\n",
       "    </tr>\n",
       "  </thead>\n",
       "  <tbody>\n",
       "    <tr>\n",
       "      <th>mobile_data</th>\n",
       "      <td>561</td>\n",
       "      <td>58.2</td>\n",
       "    </tr>\n",
       "    <tr>\n",
       "      <th>wifi</th>\n",
       "      <td>403</td>\n",
       "      <td>41.8</td>\n",
       "    </tr>\n",
       "  </tbody>\n",
       "</table>\n",
       "</div>"
      ],
      "text/plain": [
       "             count  percentage\n",
       "mobile_data    561        58.2\n",
       "wifi           403        41.8"
      ]
     },
     "metadata": {},
     "output_type": "display_data"
    },
    {
     "name": "stdout",
     "output_type": "stream",
     "text": [
      "network_type :\n"
     ]
    },
    {
     "data": {
      "text/html": [
       "<div>\n",
       "<style scoped>\n",
       "    .dataframe tbody tr th:only-of-type {\n",
       "        vertical-align: middle;\n",
       "    }\n",
       "\n",
       "    .dataframe tbody tr th {\n",
       "        vertical-align: top;\n",
       "    }\n",
       "\n",
       "    .dataframe thead th {\n",
       "        text-align: right;\n",
       "    }\n",
       "</style>\n",
       "<table border=\"1\" class=\"dataframe\">\n",
       "  <thead>\n",
       "    <tr style=\"text-align: right;\">\n",
       "      <th></th>\n",
       "      <th>count</th>\n",
       "      <th>percentage</th>\n",
       "    </tr>\n",
       "  </thead>\n",
       "  <tbody>\n",
       "    <tr>\n",
       "      <th>4g</th>\n",
       "      <td>628</td>\n",
       "      <td>65.15</td>\n",
       "    </tr>\n",
       "    <tr>\n",
       "      <th>3g</th>\n",
       "      <td>323</td>\n",
       "      <td>33.51</td>\n",
       "    </tr>\n",
       "    <tr>\n",
       "      <th>2g</th>\n",
       "      <td>13</td>\n",
       "      <td>1.35</td>\n",
       "    </tr>\n",
       "  </tbody>\n",
       "</table>\n",
       "</div>"
      ],
      "text/plain": [
       "    count  percentage\n",
       "4g    628       65.15\n",
       "3g    323       33.51\n",
       "2g     13        1.35"
      ]
     },
     "metadata": {},
     "output_type": "display_data"
    },
    {
     "name": "stdout",
     "output_type": "stream",
     "text": [
      "class_duration :\n"
     ]
    },
    {
     "data": {
      "text/html": [
       "<div>\n",
       "<style scoped>\n",
       "    .dataframe tbody tr th:only-of-type {\n",
       "        vertical-align: middle;\n",
       "    }\n",
       "\n",
       "    .dataframe tbody tr th {\n",
       "        vertical-align: top;\n",
       "    }\n",
       "\n",
       "    .dataframe thead th {\n",
       "        text-align: right;\n",
       "    }\n",
       "</style>\n",
       "<table border=\"1\" class=\"dataframe\">\n",
       "  <thead>\n",
       "    <tr style=\"text-align: right;\">\n",
       "      <th></th>\n",
       "      <th>count</th>\n",
       "      <th>percentage</th>\n",
       "    </tr>\n",
       "  </thead>\n",
       "  <tbody>\n",
       "    <tr>\n",
       "      <th>1-3</th>\n",
       "      <td>676</td>\n",
       "      <td>70.12</td>\n",
       "    </tr>\n",
       "    <tr>\n",
       "      <th>3-6</th>\n",
       "      <td>162</td>\n",
       "      <td>16.80</td>\n",
       "    </tr>\n",
       "    <tr>\n",
       "      <th>0</th>\n",
       "      <td>126</td>\n",
       "      <td>13.07</td>\n",
       "    </tr>\n",
       "  </tbody>\n",
       "</table>\n",
       "</div>"
      ],
      "text/plain": [
       "     count  percentage\n",
       "1-3    676       70.12\n",
       "3-6    162       16.80\n",
       "0      126       13.07"
      ]
     },
     "metadata": {},
     "output_type": "display_data"
    },
    {
     "name": "stdout",
     "output_type": "stream",
     "text": [
      "self_lms :\n"
     ]
    },
    {
     "data": {
      "text/html": [
       "<div>\n",
       "<style scoped>\n",
       "    .dataframe tbody tr th:only-of-type {\n",
       "        vertical-align: middle;\n",
       "    }\n",
       "\n",
       "    .dataframe tbody tr th {\n",
       "        vertical-align: top;\n",
       "    }\n",
       "\n",
       "    .dataframe thead th {\n",
       "        text-align: right;\n",
       "    }\n",
       "</style>\n",
       "<table border=\"1\" class=\"dataframe\">\n",
       "  <thead>\n",
       "    <tr style=\"text-align: right;\">\n",
       "      <th></th>\n",
       "      <th>count</th>\n",
       "      <th>percentage</th>\n",
       "    </tr>\n",
       "  </thead>\n",
       "  <tbody>\n",
       "    <tr>\n",
       "      <th>0</th>\n",
       "      <td>803</td>\n",
       "      <td>83.3</td>\n",
       "    </tr>\n",
       "    <tr>\n",
       "      <th>1</th>\n",
       "      <td>161</td>\n",
       "      <td>16.7</td>\n",
       "    </tr>\n",
       "  </tbody>\n",
       "</table>\n",
       "</div>"
      ],
      "text/plain": [
       "   count  percentage\n",
       "0    803        83.3\n",
       "1    161        16.7"
      ]
     },
     "metadata": {},
     "output_type": "display_data"
    },
    {
     "name": "stdout",
     "output_type": "stream",
     "text": [
      "device :\n"
     ]
    },
    {
     "data": {
      "text/html": [
       "<div>\n",
       "<style scoped>\n",
       "    .dataframe tbody tr th:only-of-type {\n",
       "        vertical-align: middle;\n",
       "    }\n",
       "\n",
       "    .dataframe tbody tr th {\n",
       "        vertical-align: top;\n",
       "    }\n",
       "\n",
       "    .dataframe thead th {\n",
       "        text-align: right;\n",
       "    }\n",
       "</style>\n",
       "<table border=\"1\" class=\"dataframe\">\n",
       "  <thead>\n",
       "    <tr style=\"text-align: right;\">\n",
       "      <th></th>\n",
       "      <th>count</th>\n",
       "      <th>percentage</th>\n",
       "    </tr>\n",
       "  </thead>\n",
       "  <tbody>\n",
       "    <tr>\n",
       "      <th>mobile</th>\n",
       "      <td>820</td>\n",
       "      <td>85.06</td>\n",
       "    </tr>\n",
       "    <tr>\n",
       "      <th>computer</th>\n",
       "      <td>124</td>\n",
       "      <td>12.86</td>\n",
       "    </tr>\n",
       "    <tr>\n",
       "      <th>tab</th>\n",
       "      <td>20</td>\n",
       "      <td>2.07</td>\n",
       "    </tr>\n",
       "  </tbody>\n",
       "</table>\n",
       "</div>"
      ],
      "text/plain": [
       "          count  percentage\n",
       "mobile      820       85.06\n",
       "computer    124       12.86\n",
       "tab          20        2.07"
      ]
     },
     "metadata": {},
     "output_type": "display_data"
    }
   ],
   "source": [
    "for col in cols:\n",
    "    print(col, \":\")\n",
    "    col_df = pd.DataFrame(X_full_train[col].value_counts())\n",
    "    col_df = col_df.rename(columns={col: 'count'})\n",
    "    col_df['percentage'] = ((col_df / col_df.sum()) * 100).round(2)\n",
    "    display(col_df)"
   ]
  },
  {
   "cell_type": "code",
   "execution_count": 21,
   "id": "9b2b41f4-5dff-4bf3-bb17-801aa74d9358",
   "metadata": {},
   "outputs": [
    {
     "data": {
      "image/png": "[encoded data removed]",
      "text/plain": [
       "<Figure size 576x360 with 1 Axes>"
      ]
     },
     "metadata": {},
     "output_type": "display_data"
    }
   ],
   "source": [
    "np.random.seed(5)\n",
    "\n",
    "plt.figure(figsize=(8, 5))\n",
    "values = y_full_train.value_counts()[[\"Low\", \"Moderate\", \"High\"]]\n",
    "names = values.axes[0].tolist()\n",
    "\n",
    "colors = [np.random.rand(3,) for _ in names]\n",
    "\n",
    "plt.bar(names, values, color=[\"red\", \"orange\", \"green\"], alpha=0.5)\n",
    "plt.title(\"Adaptivity Level\")\n",
    "None"
   ]
  },
  {
   "cell_type": "markdown",
   "id": "8ca7f3a9-0d7d-41f9-a3f4-f8f10fd66987",
   "metadata": {},
   "source": [
    "The classes of the target variable have a good distribution"
   ]
  },
  {
   "cell_type": "markdown",
   "id": "6b02afb8-8f94-461c-a524-b5ebf22e87d8",
   "metadata": {},
   "source": [
    "### Feature importance"
   ]
  },
  {
   "cell_type": "markdown",
   "id": "e6b19c95-39d3-4fa3-b286-569e5138b1ed",
   "metadata": {},
   "source": [
    "To find out the importance of each characteristic, I will calculate the mutual info score with the target variable:"
   ]
  },
  {
   "cell_type": "code",
   "execution_count": 22,
   "id": "3b525ee5-d044-492b-9e30-c1b8c72802ce",
   "metadata": {},
   "outputs": [],
   "source": [
    "def mutual_info_adaptivity_level(series):\n",
    "    return mutual_info_score(series, y_full_train)"
   ]
  },
  {
   "cell_type": "code",
   "execution_count": 23,
   "id": "c329cfbb-2a56-437d-a211-fcb35afcdca1",
   "metadata": {},
   "outputs": [
    {
     "data": {
      "text/plain": [
       "class_duration         0.104240\n",
       "age                    0.064535\n",
       "financial_condition    0.057779\n",
       "institution_type       0.052863\n",
       "location               0.040857\n",
       "education_level        0.026065\n",
       "device                 0.020734\n",
       "network_type           0.012031\n",
       "internet_type          0.010946\n",
       "self_lms               0.010629\n",
       "gender                 0.007017\n",
       "it_student             0.006279\n",
       "load-shedding          0.005392\n",
       "dtype: float64"
      ]
     },
     "execution_count": 23,
     "metadata": {},
     "output_type": "execute_result"
    }
   ],
   "source": [
    "mi = X_full_train.apply(mutual_info_adaptivity_level)\n",
    "mi.sort_values(ascending=False)"
   ]
  },
  {
   "cell_type": "markdown",
   "id": "188bd88f-f94e-4107-aeb5-4d027b92d95c",
   "metadata": {},
   "source": [
    "# Model training"
   ]
  },
  {
   "cell_type": "markdown",
   "id": "33fd684d-2aab-4803-976f-06a345a5fb0b",
   "metadata": {},
   "source": [
    "I will try several models to get the best result. Then I want to stack the models with the highest results into final one. To test the gradient boosting model, I will split X_full_train into training and validation data, and use cross validation to test the other models. This is because gradient boosting takes a long time to train."
   ]
  },
  {
   "cell_type": "markdown",
   "id": "23776a50-fe75-46af-a5d9-7d4fa3d1da60",
   "metadata": {},
   "source": [
    "First of all, I'm going to build a Pipeline for fast data processing. Then - to find the best hyperparameters using grid search."
   ]
  },
  {
   "cell_type": "markdown",
   "id": "9b5b5a0a-193c-47ec-946f-57e73c0f612b",
   "metadata": {},
   "source": [
    "#### Logistic regression"
   ]
  },
  {
   "cell_type": "code",
   "execution_count": 24,
   "id": "6967bee0-58eb-4ece-91a0-2c211fc0d84e",
   "metadata": {},
   "outputs": [
    {
     "name": "stdout",
     "output_type": "stream",
     "text": [
      "F1 score: 0.6762226724477829\n",
      "Cross validation accuracy score: 0.700151122625216\n"
     ]
    }
   ],
   "source": [
    "preprocessor = ColumnTransformer(\n",
    "    transformers=[\n",
    "        ('cat', OneHotEncoder(sparse=False, handle_unknown=\"ignore\", drop=\"first\"), cols)\n",
    "    ]\n",
    ")\n",
    "\n",
    "X_processed = preprocessor.fit_transform(X_full_train)\n",
    "\n",
    "model = LogisticRegression(max_iter=1000)\n",
    "model.fit(X_processed, y_full_train.to_numpy())\n",
    "\n",
    "\n",
    "preds_full_train = model.predict(X_processed)\n",
    "\n",
    "print(\"F1 score:\", f1_score(y_full_train, preds_full_train, average='macro'))\n",
    "print(\"Cross validation accuracy score:\", cross_val_score(model, X_processed, y_full_train, cv=5).mean())"
   ]
  },
  {
   "cell_type": "code",
   "execution_count": 25,
   "id": "41181ae4-363e-4f02-b919-94cc7115e0b6",
   "metadata": {},
   "outputs": [],
   "source": [
    "def train_check_model(model, params, search=\"grid\"):\n",
    "    \"\"\"encodes X_full_train with OneHotEncoder, search hyperparameters and prints F1 score and cross_val_score.\n",
    "       model: your ML model;\n",
    "       params: a dict with hyperparameters and their values;\n",
    "       search: [\"grid\", \"random\"]\n",
    "       \"\"\"\n",
    "    preprocessor = ColumnTransformer(\n",
    "        transformers=[\n",
    "            ('cat', OneHotEncoder(sparse=False, handle_unknown=\"ignore\", drop=\"first\"), cols)\n",
    "        ]\n",
    "    )\n",
    "\n",
    "    X_processed = preprocessor.fit_transform(X_full_train)\n",
    "\n",
    "    if search == \"grid\":\n",
    "        search = GridSearchCV(model, params, cv=5)\n",
    "    elif search == \"random\":\n",
    "        search = RandomizedSearchCV(model, params, n_iter=10, cv=5, n_jobs=-1, random_state=1)\n",
    "    else:\n",
    "        print(\"Error: invalid no search method\")\n",
    "        return\n",
    "    \n",
    "    search.fit(X_processed, y_full_train.to_numpy())\n",
    "    \n",
    "    print(search.best_estimator_, '\\nBest score:', search.best_score_)\n",
    "    \n",
    "    preds_full_train = search.predict(X_processed)\n",
    "    \n",
    "    print(\"F1 score:\", f1_score(y_full_train, preds_full_train, average='macro'))\n",
    "    print(\"Cross validation accuracy score:\", cross_val_score(search, X_processed, y_full_train, cv=5).mean())"
   ]
  },
  {
   "cell_type": "code",
   "execution_count": 26,
   "id": "d0b57430-7f91-41bc-9144-3e9275be30f0",
   "metadata": {},
   "outputs": [
    {
     "name": "stdout",
     "output_type": "stream",
     "text": [
      "LogisticRegression(C=1, max_iter=1000, n_jobs=-1) \n",
      "Best score: 0.700151122625216\n",
      "F1 score: 0.6762226724477829\n",
      "Cross validation accuracy score: 0.6908408894645942\n"
     ]
    }
   ],
   "source": [
    "logreg_model = LogisticRegression(max_iter=1000, n_jobs=-1, penalty=\"l2\")\n",
    "logreg_params = {\"C\": [100, 10, 2, 1, 0.1, 0.01, 0.001],\n",
    "                 \"solver\": [\"lbfgs\", \"newton-cg\"]}\n",
    "\n",
    "train_check_model(logreg_model, logreg_params)"
   ]
  },
  {
   "cell_type": "markdown",
   "id": "954e8ab5-a384-41e1-ae43-485aa0a14e1f",
   "metadata": {},
   "source": [
    "It seems like tuning the hyperparameters does not improve the accuracy of the logistic regression model."
   ]
  },
  {
   "cell_type": "markdown",
   "id": "b90e3df5-5405-41bd-b82f-b415805d92c2",
   "metadata": {},
   "source": [
    "#### Random forest"
   ]
  },
  {
   "cell_type": "markdown",
   "id": "6648a507-6577-46c1-9add-23236f7b237d",
   "metadata": {},
   "source": [
    "For random forest, I will use RandomizedSearchCV"
   ]
  },
  {
   "cell_type": "code",
   "execution_count": 27,
   "id": "3b5d07e3-3264-4547-a0f6-06dd747f157c",
   "metadata": {},
   "outputs": [
    {
     "name": "stdout",
     "output_type": "stream",
     "text": [
      "RandomForestClassifier(criterion='entropy', max_depth=10, max_features='sqrt',\n",
      "                       n_estimators=10, n_jobs=-1, random_state=1) \n",
      "Best score: 0.8786539291882557\n",
      "F1 score: 0.9076829908555138\n",
      "Cross validation accuracy score: 0.8786539291882557\n"
     ]
    }
   ],
   "source": [
    "rf_model = RandomForestClassifier(random_state=1, n_jobs=-1)\n",
    "rf_params = {\"n_estimators\": [10, 20, 50, 100, 150, 200],\n",
    "             \"criterion\": [\"gini\", \"entropy\"],\n",
    "             \"max_depth\": [2, 5, 10, 15, 20, 30],\n",
    "             \"min_samples_leaf\": [1, 2, 3, 4, 5],\n",
    "             \"max_features\": [\"sqrt\", 2, 5, 10]}\n",
    "\n",
    "train_check_model(rf_model, rf_params, search=\"random\")"
   ]
  },
  {
   "cell_type": "markdown",
   "id": "d9905419-94d0-49b2-af2e-434521683102",
   "metadata": {},
   "source": [
    "I think that it is a good result."
   ]
  },
  {
   "cell_type": "markdown",
   "id": "ce3092ec-9454-4c2d-8b70-9a516494f89f",
   "metadata": {},
   "source": [
    "#### Gradient Boosting"
   ]
  },
  {
   "cell_type": "markdown",
   "id": "03f22d8c-599d-4914-b75a-75b943c62453",
   "metadata": {},
   "source": [
    "I chose CatBoost as my gradient boosting library. Its advantage is that it does not require pre-processing of categorical data."
   ]
  },
  {
   "cell_type": "markdown",
   "id": "4f1a4077-e02b-471f-9724-22d07f875220",
   "metadata": {},
   "source": [
    "In order to use it, I need to split the dataset:"
   ]
  },
  {
   "cell_type": "code",
   "execution_count": 28,
   "id": "003b2779-2688-4201-94c0-e275e77640f1",
   "metadata": {},
   "outputs": [
    {
     "data": {
      "text/plain": [
       "(723, 723, 241, 241)"
      ]
     },
     "execution_count": 28,
     "metadata": {},
     "output_type": "execute_result"
    }
   ],
   "source": [
    "X_train, X_val, y_train, y_val = train_test_split(X_full_train, y_full_train, test_size=0.25, random_state=1)\n",
    "\n",
    "X_train.reset_index(drop=True, inplace=True)\n",
    "X_val.reset_index(drop=True, inplace=True)\n",
    "y_train.reset_index(drop=True, inplace=True)\n",
    "y_val.reset_index(drop=True, inplace=True)\n",
    "\n",
    "X_train.shape[0], y_train.shape[0], X_val.shape[0], y_val.shape[0]"
   ]
  },
  {
   "cell_type": "code",
   "execution_count": 29,
   "id": "f0541ffe-fac5-455c-bfb3-1e2d380417f6",
   "metadata": {},
   "outputs": [
    {
     "data": {
      "text/plain": [
       "0.8"
      ]
     },
     "execution_count": 29,
     "metadata": {},
     "output_type": "execute_result"
    }
   ],
   "source": [
    "(X_train.shape[0] + X_val.shape[0]) / (X_full_train.shape[0] + X_test.shape[0])"
   ]
  },
  {
   "cell_type": "code",
   "execution_count": 30,
   "id": "539c9e78-bbc8-4797-a21b-5d3e26240c91",
   "metadata": {},
   "outputs": [
    {
     "name": "stdout",
     "output_type": "stream",
     "text": [
      "Learning rate set to 0.303228\n",
      "0:\tlearn: 0.9635134\ttotal: 180ms\tremaining: 35.8s\n",
      "1:\tlearn: 0.8868309\ttotal: 211ms\tremaining: 20.8s\n",
      "2:\tlearn: 0.8402531\ttotal: 236ms\tremaining: 15.5s\n",
      "3:\tlearn: 0.8120937\ttotal: 268ms\tremaining: 13.1s\n",
      "4:\tlearn: 0.7886964\ttotal: 305ms\tremaining: 11.9s\n",
      "5:\tlearn: 0.7644410\ttotal: 341ms\tremaining: 11s\n",
      "6:\tlearn: 0.7457754\ttotal: 375ms\tremaining: 10.3s\n",
      "7:\tlearn: 0.7346007\ttotal: 410ms\tremaining: 9.83s\n",
      "8:\tlearn: 0.7152764\ttotal: 445ms\tremaining: 9.43s\n",
      "9:\tlearn: 0.6945535\ttotal: 481ms\tremaining: 9.14s\n",
      "10:\tlearn: 0.6846195\ttotal: 516ms\tremaining: 8.86s\n",
      "11:\tlearn: 0.6716515\ttotal: 549ms\tremaining: 8.61s\n",
      "12:\tlearn: 0.6654265\ttotal: 583ms\tremaining: 8.39s\n",
      "13:\tlearn: 0.6653001\ttotal: 590ms\tremaining: 7.84s\n",
      "14:\tlearn: 0.6569088\ttotal: 623ms\tremaining: 7.69s\n",
      "15:\tlearn: 0.6477809\ttotal: 657ms\tremaining: 7.56s\n",
      "16:\tlearn: 0.6317622\ttotal: 692ms\tremaining: 7.45s\n",
      "17:\tlearn: 0.6258369\ttotal: 726ms\tremaining: 7.34s\n",
      "18:\tlearn: 0.6010944\ttotal: 761ms\tremaining: 7.25s\n",
      "19:\tlearn: 0.5907724\ttotal: 795ms\tremaining: 7.15s\n",
      "20:\tlearn: 0.5778871\ttotal: 830ms\tremaining: 7.08s\n",
      "21:\tlearn: 0.5718450\ttotal: 865ms\tremaining: 7s\n",
      "22:\tlearn: 0.5571917\ttotal: 900ms\tremaining: 6.92s\n",
      "23:\tlearn: 0.5464646\ttotal: 935ms\tremaining: 6.86s\n",
      "24:\tlearn: 0.5423332\ttotal: 971ms\tremaining: 6.79s\n",
      "25:\tlearn: 0.5290505\ttotal: 1.01s\tremaining: 6.74s\n",
      "26:\tlearn: 0.5199027\ttotal: 1.04s\tremaining: 6.7s\n",
      "27:\tlearn: 0.5033912\ttotal: 1.08s\tremaining: 6.63s\n",
      "28:\tlearn: 0.4841037\ttotal: 1.11s\tremaining: 6.56s\n",
      "29:\tlearn: 0.4721548\ttotal: 1.15s\tremaining: 6.5s\n",
      "30:\tlearn: 0.4596370\ttotal: 1.18s\tremaining: 6.44s\n",
      "31:\tlearn: 0.4568986\ttotal: 1.22s\tremaining: 6.38s\n",
      "32:\tlearn: 0.4495420\ttotal: 1.25s\tremaining: 6.32s\n",
      "33:\tlearn: 0.4463606\ttotal: 1.28s\tremaining: 6.26s\n",
      "34:\tlearn: 0.4379203\ttotal: 1.32s\tremaining: 6.21s\n",
      "35:\tlearn: 0.4273810\ttotal: 1.35s\tremaining: 6.15s\n",
      "36:\tlearn: 0.4232602\ttotal: 1.38s\tremaining: 6.09s\n",
      "37:\tlearn: 0.4147038\ttotal: 1.42s\tremaining: 6.05s\n",
      "38:\tlearn: 0.4108162\ttotal: 1.45s\tremaining: 6s\n",
      "39:\tlearn: 0.4066142\ttotal: 1.49s\tremaining: 5.96s\n",
      "40:\tlearn: 0.3986794\ttotal: 1.52s\tremaining: 5.91s\n",
      "41:\tlearn: 0.3921519\ttotal: 1.56s\tremaining: 5.87s\n",
      "42:\tlearn: 0.3894979\ttotal: 1.59s\tremaining: 5.83s\n",
      "43:\tlearn: 0.3847428\ttotal: 1.63s\tremaining: 5.78s\n",
      "44:\tlearn: 0.3817664\ttotal: 1.67s\tremaining: 5.74s\n",
      "45:\tlearn: 0.3761795\ttotal: 1.7s\tremaining: 5.69s\n",
      "46:\tlearn: 0.3706955\ttotal: 1.74s\tremaining: 5.65s\n",
      "47:\tlearn: 0.3681707\ttotal: 1.77s\tremaining: 5.6s\n",
      "48:\tlearn: 0.3645897\ttotal: 1.8s\tremaining: 5.55s\n",
      "49:\tlearn: 0.3613779\ttotal: 1.83s\tremaining: 5.51s\n",
      "50:\tlearn: 0.3557609\ttotal: 1.87s\tremaining: 5.46s\n",
      "51:\tlearn: 0.3486583\ttotal: 1.9s\tremaining: 5.42s\n",
      "52:\tlearn: 0.3468007\ttotal: 1.94s\tremaining: 5.37s\n",
      "53:\tlearn: 0.3442858\ttotal: 1.97s\tremaining: 5.33s\n",
      "54:\tlearn: 0.3397541\ttotal: 2.01s\tremaining: 5.29s\n",
      "55:\tlearn: 0.3363430\ttotal: 2.04s\tremaining: 5.25s\n",
      "56:\tlearn: 0.3339784\ttotal: 2.08s\tremaining: 5.21s\n",
      "57:\tlearn: 0.3321533\ttotal: 2.11s\tremaining: 5.16s\n",
      "58:\tlearn: 0.3271802\ttotal: 2.14s\tremaining: 5.12s\n",
      "59:\tlearn: 0.3230157\ttotal: 2.18s\tremaining: 5.08s\n",
      "60:\tlearn: 0.3207785\ttotal: 2.21s\tremaining: 5.03s\n",
      "61:\tlearn: 0.3197911\ttotal: 2.24s\tremaining: 4.99s\n",
      "62:\tlearn: 0.3166681\ttotal: 2.27s\tremaining: 4.95s\n",
      "63:\tlearn: 0.3131478\ttotal: 2.31s\tremaining: 4.91s\n",
      "64:\tlearn: 0.3093307\ttotal: 2.34s\tremaining: 4.87s\n",
      "65:\tlearn: 0.3081661\ttotal: 2.38s\tremaining: 4.83s\n",
      "66:\tlearn: 0.3071540\ttotal: 2.41s\tremaining: 4.79s\n",
      "67:\tlearn: 0.3044997\ttotal: 2.45s\tremaining: 4.75s\n",
      "68:\tlearn: 0.3012039\ttotal: 2.48s\tremaining: 4.72s\n",
      "69:\tlearn: 0.3005653\ttotal: 2.52s\tremaining: 4.67s\n",
      "70:\tlearn: 0.2991846\ttotal: 2.55s\tremaining: 4.63s\n",
      "71:\tlearn: 0.2963404\ttotal: 2.58s\tremaining: 4.59s\n",
      "72:\tlearn: 0.2936371\ttotal: 2.62s\tremaining: 4.55s\n",
      "73:\tlearn: 0.2908217\ttotal: 2.65s\tremaining: 4.51s\n",
      "74:\tlearn: 0.2895625\ttotal: 2.68s\tremaining: 4.47s\n",
      "75:\tlearn: 0.2864460\ttotal: 2.72s\tremaining: 4.43s\n",
      "76:\tlearn: 0.2819955\ttotal: 2.75s\tremaining: 4.39s\n",
      "77:\tlearn: 0.2803491\ttotal: 2.78s\tremaining: 4.36s\n",
      "78:\tlearn: 0.2791048\ttotal: 2.82s\tremaining: 4.31s\n",
      "79:\tlearn: 0.2776888\ttotal: 2.85s\tremaining: 4.27s\n",
      "80:\tlearn: 0.2754317\ttotal: 2.88s\tremaining: 4.24s\n",
      "81:\tlearn: 0.2736750\ttotal: 2.92s\tremaining: 4.2s\n",
      "82:\tlearn: 0.2728437\ttotal: 2.95s\tremaining: 4.16s\n",
      "83:\tlearn: 0.2708094\ttotal: 2.98s\tremaining: 4.12s\n",
      "84:\tlearn: 0.2691750\ttotal: 3.02s\tremaining: 4.08s\n",
      "85:\tlearn: 0.2642633\ttotal: 3.05s\tremaining: 4.04s\n",
      "86:\tlearn: 0.2625761\ttotal: 3.08s\tremaining: 4s\n",
      "87:\tlearn: 0.2620933\ttotal: 3.12s\tremaining: 3.97s\n",
      "88:\tlearn: 0.2604492\ttotal: 3.15s\tremaining: 3.93s\n",
      "89:\tlearn: 0.2586788\ttotal: 3.18s\tremaining: 3.89s\n",
      "90:\tlearn: 0.2575828\ttotal: 3.22s\tremaining: 3.85s\n",
      "91:\tlearn: 0.2538616\ttotal: 3.25s\tremaining: 3.81s\n",
      "92:\tlearn: 0.2508091\ttotal: 3.29s\tremaining: 3.78s\n",
      "93:\tlearn: 0.2505392\ttotal: 3.32s\tremaining: 3.74s\n",
      "94:\tlearn: 0.2486847\ttotal: 3.35s\tremaining: 3.71s\n",
      "95:\tlearn: 0.2478099\ttotal: 3.39s\tremaining: 3.67s\n",
      "96:\tlearn: 0.2452560\ttotal: 3.42s\tremaining: 3.63s\n",
      "97:\tlearn: 0.2430204\ttotal: 3.46s\tremaining: 3.6s\n",
      "98:\tlearn: 0.2396351\ttotal: 3.49s\tremaining: 3.56s\n",
      "99:\tlearn: 0.2379365\ttotal: 3.52s\tremaining: 3.52s\n",
      "100:\tlearn: 0.2348207\ttotal: 3.56s\tremaining: 3.48s\n",
      "101:\tlearn: 0.2341735\ttotal: 3.59s\tremaining: 3.45s\n",
      "102:\tlearn: 0.2321427\ttotal: 3.62s\tremaining: 3.41s\n",
      "103:\tlearn: 0.2314574\ttotal: 3.66s\tremaining: 3.38s\n",
      "104:\tlearn: 0.2297909\ttotal: 3.69s\tremaining: 3.34s\n",
      "105:\tlearn: 0.2268100\ttotal: 3.72s\tremaining: 3.3s\n",
      "106:\tlearn: 0.2256213\ttotal: 3.76s\tremaining: 3.27s\n",
      "107:\tlearn: 0.2244888\ttotal: 3.79s\tremaining: 3.23s\n",
      "108:\tlearn: 0.2237032\ttotal: 3.83s\tremaining: 3.19s\n",
      "109:\tlearn: 0.2207308\ttotal: 3.86s\tremaining: 3.16s\n",
      "110:\tlearn: 0.2182298\ttotal: 3.9s\tremaining: 3.13s\n",
      "111:\tlearn: 0.2173595\ttotal: 3.93s\tremaining: 3.09s\n",
      "112:\tlearn: 0.2168080\ttotal: 3.98s\tremaining: 3.06s\n",
      "113:\tlearn: 0.2153571\ttotal: 4.01s\tremaining: 3.03s\n",
      "114:\tlearn: 0.2139597\ttotal: 4.04s\tremaining: 2.99s\n",
      "115:\tlearn: 0.2121551\ttotal: 4.08s\tremaining: 2.95s\n",
      "116:\tlearn: 0.2113768\ttotal: 4.11s\tremaining: 2.92s\n",
      "117:\tlearn: 0.2107412\ttotal: 4.14s\tremaining: 2.88s\n",
      "118:\tlearn: 0.2093983\ttotal: 4.18s\tremaining: 2.85s\n",
      "119:\tlearn: 0.2077403\ttotal: 4.22s\tremaining: 2.81s\n",
      "120:\tlearn: 0.2072890\ttotal: 4.25s\tremaining: 2.77s\n",
      "121:\tlearn: 0.2055900\ttotal: 4.28s\tremaining: 2.74s\n",
      "122:\tlearn: 0.2049613\ttotal: 4.32s\tremaining: 2.7s\n",
      "123:\tlearn: 0.2039958\ttotal: 4.35s\tremaining: 2.67s\n",
      "124:\tlearn: 0.2033278\ttotal: 4.38s\tremaining: 2.63s\n",
      "125:\tlearn: 0.2013511\ttotal: 4.42s\tremaining: 2.59s\n",
      "126:\tlearn: 0.2000879\ttotal: 4.46s\tremaining: 2.56s\n",
      "127:\tlearn: 0.1983902\ttotal: 4.5s\tremaining: 2.53s\n",
      "128:\tlearn: 0.1976716\ttotal: 4.54s\tremaining: 2.5s\n",
      "129:\tlearn: 0.1960286\ttotal: 4.57s\tremaining: 2.46s\n",
      "130:\tlearn: 0.1955324\ttotal: 4.61s\tremaining: 2.43s\n",
      "131:\tlearn: 0.1945383\ttotal: 4.65s\tremaining: 2.39s\n",
      "132:\tlearn: 0.1929113\ttotal: 4.68s\tremaining: 2.36s\n",
      "133:\tlearn: 0.1924478\ttotal: 4.72s\tremaining: 2.32s\n",
      "134:\tlearn: 0.1915897\ttotal: 4.75s\tremaining: 2.29s\n",
      "135:\tlearn: 0.1906143\ttotal: 4.79s\tremaining: 2.25s\n",
      "136:\tlearn: 0.1899764\ttotal: 4.83s\tremaining: 2.22s\n",
      "137:\tlearn: 0.1884506\ttotal: 4.88s\tremaining: 2.19s\n",
      "138:\tlearn: 0.1871831\ttotal: 4.92s\tremaining: 2.16s\n",
      "139:\tlearn: 0.1862195\ttotal: 4.95s\tremaining: 2.12s\n",
      "140:\tlearn: 0.1847925\ttotal: 4.99s\tremaining: 2.09s\n",
      "141:\tlearn: 0.1843174\ttotal: 5.02s\tremaining: 2.05s\n",
      "142:\tlearn: 0.1828437\ttotal: 5.05s\tremaining: 2.01s\n",
      "143:\tlearn: 0.1825730\ttotal: 5.08s\tremaining: 1.98s\n",
      "144:\tlearn: 0.1806805\ttotal: 5.12s\tremaining: 1.94s\n",
      "145:\tlearn: 0.1792388\ttotal: 5.15s\tremaining: 1.91s\n",
      "146:\tlearn: 0.1776654\ttotal: 5.19s\tremaining: 1.87s\n",
      "147:\tlearn: 0.1764542\ttotal: 5.22s\tremaining: 1.83s\n",
      "148:\tlearn: 0.1754446\ttotal: 5.26s\tremaining: 1.8s\n",
      "149:\tlearn: 0.1742075\ttotal: 5.29s\tremaining: 1.76s\n",
      "150:\tlearn: 0.1737659\ttotal: 5.32s\tremaining: 1.73s\n",
      "151:\tlearn: 0.1726795\ttotal: 5.36s\tremaining: 1.69s\n",
      "152:\tlearn: 0.1720009\ttotal: 5.39s\tremaining: 1.66s\n",
      "153:\tlearn: 0.1701459\ttotal: 5.42s\tremaining: 1.62s\n",
      "154:\tlearn: 0.1697219\ttotal: 5.46s\tremaining: 1.58s\n",
      "155:\tlearn: 0.1684965\ttotal: 5.49s\tremaining: 1.55s\n",
      "156:\tlearn: 0.1668407\ttotal: 5.53s\tremaining: 1.51s\n",
      "157:\tlearn: 0.1652615\ttotal: 5.56s\tremaining: 1.48s\n",
      "158:\tlearn: 0.1646753\ttotal: 5.59s\tremaining: 1.44s\n",
      "159:\tlearn: 0.1631833\ttotal: 5.63s\tremaining: 1.41s\n",
      "160:\tlearn: 0.1625085\ttotal: 5.66s\tremaining: 1.37s\n",
      "161:\tlearn: 0.1615530\ttotal: 5.7s\tremaining: 1.33s\n",
      "162:\tlearn: 0.1608548\ttotal: 5.73s\tremaining: 1.3s\n",
      "163:\tlearn: 0.1602341\ttotal: 5.77s\tremaining: 1.26s\n",
      "164:\tlearn: 0.1586360\ttotal: 5.8s\tremaining: 1.23s\n",
      "165:\tlearn: 0.1580636\ttotal: 5.84s\tremaining: 1.2s\n",
      "166:\tlearn: 0.1573566\ttotal: 5.87s\tremaining: 1.16s\n",
      "167:\tlearn: 0.1567283\ttotal: 5.91s\tremaining: 1.13s\n",
      "168:\tlearn: 0.1549230\ttotal: 5.94s\tremaining: 1.09s\n",
      "169:\tlearn: 0.1547581\ttotal: 5.98s\tremaining: 1.05s\n",
      "170:\tlearn: 0.1544343\ttotal: 6.01s\tremaining: 1.02s\n",
      "171:\tlearn: 0.1538489\ttotal: 6.04s\tremaining: 984ms\n",
      "172:\tlearn: 0.1525323\ttotal: 6.07s\tremaining: 948ms\n",
      "173:\tlearn: 0.1519553\ttotal: 6.11s\tremaining: 913ms\n",
      "174:\tlearn: 0.1509926\ttotal: 6.14s\tremaining: 877ms\n",
      "175:\tlearn: 0.1488817\ttotal: 6.18s\tremaining: 842ms\n",
      "176:\tlearn: 0.1483262\ttotal: 6.21s\tremaining: 808ms\n",
      "177:\tlearn: 0.1476810\ttotal: 6.25s\tremaining: 773ms\n",
      "178:\tlearn: 0.1467466\ttotal: 6.29s\tremaining: 738ms\n",
      "179:\tlearn: 0.1456859\ttotal: 6.32s\tremaining: 703ms\n",
      "180:\tlearn: 0.1451434\ttotal: 6.36s\tremaining: 668ms\n",
      "181:\tlearn: 0.1447323\ttotal: 6.4s\tremaining: 633ms\n",
      "182:\tlearn: 0.1442808\ttotal: 6.43s\tremaining: 597ms\n",
      "183:\tlearn: 0.1437430\ttotal: 6.46s\tremaining: 562ms\n",
      "184:\tlearn: 0.1428732\ttotal: 6.5s\tremaining: 527ms\n",
      "185:\tlearn: 0.1423630\ttotal: 6.53s\tremaining: 492ms\n",
      "186:\tlearn: 0.1420462\ttotal: 6.57s\tremaining: 456ms\n",
      "187:\tlearn: 0.1417772\ttotal: 6.6s\tremaining: 421ms\n",
      "188:\tlearn: 0.1411741\ttotal: 6.63s\tremaining: 386ms\n",
      "189:\tlearn: 0.1407672\ttotal: 6.67s\tremaining: 351ms\n",
      "190:\tlearn: 0.1401622\ttotal: 6.7s\tremaining: 316ms\n",
      "191:\tlearn: 0.1393400\ttotal: 6.74s\tremaining: 281ms\n",
      "192:\tlearn: 0.1388540\ttotal: 6.78s\tremaining: 246ms\n",
      "193:\tlearn: 0.1380056\ttotal: 6.81s\tremaining: 211ms\n",
      "194:\tlearn: 0.1373795\ttotal: 6.84s\tremaining: 176ms\n",
      "195:\tlearn: 0.1369407\ttotal: 6.88s\tremaining: 140ms\n",
      "196:\tlearn: 0.1366546\ttotal: 6.91s\tremaining: 105ms\n",
      "197:\tlearn: 0.1357691\ttotal: 6.95s\tremaining: 70.2ms\n",
      "198:\tlearn: 0.1346203\ttotal: 6.99s\tremaining: 35.1ms\n",
      "199:\tlearn: 0.1340917\ttotal: 7.02s\tremaining: 0us\n"
     ]
    }
   ],
   "source": [
    "boosting_model = catboost.CatBoostClassifier(n_estimators=200,\n",
    "                                             cat_features=cols)\n",
    "\n",
    "boosting_model.fit(X_train, y_train)\n",
    "\n",
    "y_train_predicted = boosting_model.predict(X_train)\n",
    "y_val_predicted = boosting_model.predict(X_val)"
   ]
  },
  {
   "cell_type": "code",
   "execution_count": 31,
   "id": "51909455-74a4-44be-bb6b-991a88d8e7b7",
   "metadata": {},
   "outputs": [
    {
     "name": "stdout",
     "output_type": "stream",
     "text": [
      "F1 score: 0.7564121843069213\n"
     ]
    }
   ],
   "source": [
    "print(\"F1 score:\", f1_score(y_val, y_val_predicted, average='macro'))"
   ]
  },
  {
   "cell_type": "markdown",
   "id": "db844a4a-d39d-4b18-a4ac-1a4781cc1941",
   "metadata": {},
   "source": [
    "The result is not as good as I would like. I will try to tune its hyperparameters."
   ]
  },
  {
   "cell_type": "code",
   "execution_count": 32,
   "id": "bcaf7119-5104-4b95-82ea-3897170e41cb",
   "metadata": {},
   "outputs": [
    {
     "data": {
      "application/vnd.jupyter.widget-view+json": {
       "model_id": "48fe44db78464e25b1e025af3076babe",
       "version_major": 2,
       "version_minor": 0
      },
      "text/plain": [
       "MetricVisualizer(layout=Layout(align_self='stretch', height='500px'))"
      ]
     },
     "metadata": {},
     "output_type": "display_data"
    },
    {
     "name": "stdout",
     "output_type": "stream",
     "text": [
      "\n",
      "bestTest = 0.7251650954\n",
      "bestIteration = 192\n",
      "\n",
      "0:\tloss: 0.7251651\tbest: 0.7251651 (0)\ttotal: 1.93s\tremaining: 36.7s\n",
      "\n",
      "bestTest = 0.7681179094\n",
      "bestIteration = 908\n",
      "\n",
      "1:\tloss: 0.7681179\tbest: 0.7681179 (1)\ttotal: 11.2s\tremaining: 1m 40s\n",
      "\n",
      "bestTest = 0.7533027346\n",
      "bestIteration = 955\n",
      "\n",
      "2:\tloss: 0.7533027\tbest: 0.7681179 (1)\ttotal: 21.2s\tremaining: 1m 59s\n",
      "\n",
      "bestTest = 0.7510644678\n",
      "bestIteration = 396\n",
      "\n",
      "3:\tloss: 0.7510645\tbest: 0.7681179 (1)\ttotal: 31.1s\tremaining: 2m 4s\n",
      "\n",
      "bestTest = 0.6966697652\n",
      "bestIteration = 90\n",
      "\n",
      "4:\tloss: 0.6966698\tbest: 0.7681179 (1)\ttotal: 32.6s\tremaining: 1m 37s\n",
      "\n",
      "bestTest = 0.8123238381\n",
      "bestIteration = 923\n",
      "\n",
      "5:\tloss: 0.8123238\tbest: 0.8123238 (5)\ttotal: 47.6s\tremaining: 1m 51s\n",
      "\n",
      "bestTest = 0.8257173724\n",
      "bestIteration = 865\n",
      "\n",
      "6:\tloss: 0.8257174\tbest: 0.8257174 (6)\ttotal: 1m 3s\tremaining: 1m 57s\n",
      "\n",
      "bestTest = 0.7746723242\n",
      "bestIteration = 147\n",
      "\n",
      "7:\tloss: 0.7746723\tbest: 0.8257174 (6)\ttotal: 1m 8s\tremaining: 1m 42s\n",
      "\n",
      "bestTest = 0.8327340603\n",
      "bestIteration = 335\n",
      "\n",
      "8:\tloss: 0.8327341\tbest: 0.8327341 (8)\ttotal: 1m 21s\tremaining: 1m 39s\n",
      "\n",
      "bestTest = 0.7208029706\n",
      "bestIteration = 75\n",
      "\n",
      "9:\tloss: 0.7208030\tbest: 0.8327341 (8)\ttotal: 1m 24s\tremaining: 1m 24s\n",
      "\n",
      "bestTest = 0.7331881246\n",
      "bestIteration = 70\n",
      "\n",
      "10:\tloss: 0.7331881\tbest: 0.8327341 (8)\ttotal: 1m 27s\tremaining: 1m 11s\n",
      "\n",
      "bestTest = 0.8025245231\n",
      "bestIteration = 161\n",
      "\n",
      "11:\tloss: 0.8025245\tbest: 0.8327341 (8)\ttotal: 1m 33s\tremaining: 1m 2s\n",
      "\n",
      "bestTest = 0.8398554604\n",
      "bestIteration = 423\n",
      "\n",
      "12:\tloss: 0.8398555\tbest: 0.8398555 (12)\ttotal: 1m 49s\tremaining: 59s\n",
      "\n",
      "bestTest = 0.7812418352\n",
      "bestIteration = 96\n",
      "\n",
      "13:\tloss: 0.7812418\tbest: 0.8398555 (12)\ttotal: 1m 52s\tremaining: 48.3s\n",
      "\n",
      "bestTest = 0.7728419439\n",
      "bestIteration = 98\n",
      "\n",
      "14:\tloss: 0.7728419\tbest: 0.8398555 (12)\ttotal: 1m 55s\tremaining: 38.6s\n",
      "\n",
      "bestTest = 0.7513520871\n",
      "bestIteration = 82\n",
      "\n",
      "15:\tloss: 0.7513521\tbest: 0.8398555 (12)\ttotal: 1m 58s\tremaining: 29.7s\n",
      "\n",
      "bestTest = 0.8110093293\n",
      "bestIteration = 139\n",
      "\n",
      "16:\tloss: 0.8110093\tbest: 0.8398555 (12)\ttotal: 2m 7s\tremaining: 22.5s\n",
      "\n",
      "bestTest = 0.8329091303\n",
      "bestIteration = 315\n",
      "\n",
      "17:\tloss: 0.8329091\tbest: 0.8398555 (12)\ttotal: 2m 31s\tremaining: 16.8s\n",
      "\n",
      "bestTest = 0.8467630134\n",
      "bestIteration = 369\n",
      "\n",
      "18:\tloss: 0.8467630\tbest: 0.8467630 (18)\ttotal: 3m 17s\tremaining: 10.4s\n",
      "\n",
      "bestTest = 0.8190162753\n",
      "bestIteration = 162\n",
      "\n",
      "19:\tloss: 0.8190163\tbest: 0.8467630 (18)\ttotal: 3m 33s\tremaining: 0us\n",
      "Estimating final quality...\n",
      "Training on fold [0/3]\n",
      "\n",
      "bestTest = 0.7751232217\n",
      "bestIteration = 260\n",
      "\n",
      "Training on fold [1/3]\n",
      "\n",
      "bestTest = 0.7983891745\n",
      "bestIteration = 390\n",
      "\n",
      "Training on fold [2/3]\n",
      "\n",
      "bestTest = 0.8229668955\n",
      "bestIteration = 270\n",
      "\n"
     ]
    }
   ],
   "source": [
    "tuned_boosting_model = catboost.CatBoostClassifier(silent=True,\n",
    "                                             cat_features=cols,\n",
    "                                             eval_metric='TotalF1')\n",
    "\n",
    "randomized_search_result = tuned_boosting_model.randomized_search({\"n_estimators\": [100, 200, 500, 1000],\n",
    "                                                             \"depth\": [2, 3, 5, 6, 7, 10],\n",
    "                                                             'l2_leaf_reg': np.linspace(0, 1, 5)},\n",
    "                                                   X=X_train,\n",
    "                                                   y=y_train,\n",
    "                                                   plot=True, refit=True, n_iter=20)"
   ]
  },
  {
   "cell_type": "code",
   "execution_count": 33,
   "id": "a397526a-eaf3-4e27-bf88-b7389b6988b0",
   "metadata": {},
   "outputs": [
    {
     "data": {
      "text/plain": [
       "{'depth': 7, 'iterations': 1000, 'l2_leaf_reg': 0.0}"
      ]
     },
     "execution_count": 33,
     "metadata": {},
     "output_type": "execute_result"
    }
   ],
   "source": [
    "randomized_search_result[\"params\"]"
   ]
  },
  {
   "cell_type": "code",
   "execution_count": 34,
   "id": "3ae8b6f7-0252-4a87-a413-aead51d5fbe0",
   "metadata": {},
   "outputs": [
    {
     "name": "stdout",
     "output_type": "stream",
     "text": [
      "F1 score: 0.7860550604080015\n"
     ]
    }
   ],
   "source": [
    "y_val_predicted = tuned_boosting_model.predict(X_val)\n",
    "\n",
    "print(\"F1 score:\", f1_score(y_val, y_val_predicted, average='macro'))"
   ]
  },
  {
   "cell_type": "markdown",
   "id": "1cb4c100-982b-4d10-a461-4553b222a792",
   "metadata": {},
   "source": [
    "# Final models comparison"
   ]
  },
  {
   "cell_type": "markdown",
   "id": "8c6da7b4-73ec-48e6-adc4-00abf003499e",
   "metadata": {},
   "source": [
    "Now I need to retrain all 3 models and test them by F1 score on the validation data."
   ]
  },
  {
   "cell_type": "code",
   "execution_count": 35,
   "id": "32177860-2052-4852-9c7f-690a85c68002",
   "metadata": {},
   "outputs": [],
   "source": [
    "def get_model_f1(model):\n",
    "    preprocessor = ColumnTransformer(\n",
    "        transformers=[\n",
    "            ('cat', OneHotEncoder(sparse=False, handle_unknown=\"ignore\", drop=\"first\"), cols)\n",
    "        ]\n",
    "    )\n",
    "\n",
    "    X_train_processed = preprocessor.fit_transform(X_train)\n",
    "    X_val_processed = preprocessor.transform(X_val)\n",
    "    model.fit(X_train_processed, y_train.to_numpy())\n",
    "    preds = model.predict(X_val_processed)\n",
    "    \n",
    "    return f1_score(y_val, preds, average='macro')"
   ]
  },
  {
   "cell_type": "code",
   "execution_count": 36,
   "id": "9a7f72cf-a4be-4464-bc17-7d8aa018e926",
   "metadata": {},
   "outputs": [
    {
     "name": "stdout",
     "output_type": "stream",
     "text": [
      "Logistic regression: 0.6101170434503769,\n",
      "Random forest classifier: 0.807308925886001,\n",
      "Catboost: 0.7860550604080015\n"
     ]
    }
   ],
   "source": [
    "logreg_model = LogisticRegression(C=1, max_iter=1000, n_jobs=-1, penalty=\"l2\")\n",
    "logreg_f1 = get_model_f1(logreg_model)\n",
    "\n",
    "rf_model = RandomForestClassifier(random_state=1, n_jobs=-1, criterion='entropy', max_depth=10,\n",
    "                                  max_features='sqrt', n_estimators=10)\n",
    "rf_f1 = get_model_f1(rf_model)\n",
    "\n",
    "boosting_model = catboost.CatBoostClassifier(cat_features=cols, depth=7, iterations=1000,\n",
    "                                             l2_leaf_reg=0.0)\n",
    "\n",
    "boosting_model.fit(X_train, y_train, silent=True)\n",
    "y_val_predicted = tuned_boosting_model.predict(X_val)\n",
    "\n",
    "catboost_f1 = f1_score(y_val_predicted, y_val, average='macro')\n",
    "\n",
    "print(f\"Logistic regression: {logreg_f1},\\nRandom forest classifier: {rf_f1},\\nCatboost: {catboost_f1}\")"
   ]
  },
  {
   "cell_type": "markdown",
   "id": "309241fd-fb70-4058-84ce-2fff8626c6ac",
   "metadata": {},
   "source": [
    "Random forest has the best result"
   ]
  },
  {
   "cell_type": "markdown",
   "id": "6b124c4d-cf10-4ee8-a821-c6c57eb5f29f",
   "metadata": {},
   "source": [
    "# Model stacking"
   ]
  },
  {
   "cell_type": "code",
   "execution_count": 37,
   "id": "56b81310-4d00-4650-b6e1-ff73b2601222",
   "metadata": {},
   "outputs": [],
   "source": [
    "def encode_predict_data(logreg_model, rf_model, boosting_model, X, X_OHEd):\n",
    "    \"\"\"Predicts X's score from 3 models, combines and encodes the results,\n",
    "    returns:\n",
    "    - stacked_predictions_encoded\n",
    "    \"\"\"\n",
    "    preds_logreg = logreg_model.predict(X_OHEd)\n",
    "    preds_rf = rf_model.predict(X_OHEd)\n",
    "    preds_boosting = boosting_model.predict(X)\n",
    "\n",
    "    stacked_predictions = np.column_stack((preds_logreg, preds_rf, preds_boosting))\n",
    "    classes = {\"Low\": 0, \"Moderate\": 1, \"High\": 2}\n",
    "    stacked_predictions_encoded = [\n",
    "        [classes[label] for label in row] for row in stacked_predictions\n",
    "    ]\n",
    "\n",
    "    return stacked_predictions_encoded"
   ]
  },
  {
   "cell_type": "code",
   "execution_count": 38,
   "id": "d55825b2-88e7-42ad-baff-a4c162ac152a",
   "metadata": {},
   "outputs": [],
   "source": [
    "def prepare_train_get_metrics(X_1, y_1, X_2, y_2):\n",
    "    \"\"\"Trains a stack model on the data X_1 and y_1,\n",
    "    returns:\n",
    "    - accuracy for X_2 and y_2,\n",
    "    - f1 for X_2 and y_2,\n",
    "    - fitted OneHotEncoder,\n",
    "    - list with 3 fitted models: [logreg_model, rf_model, boosting_model]\n",
    "    - fitted final model\n",
    "    \"\"\"\n",
    "    OHE = OneHotEncoder(sparse=False, handle_unknown=\"ignore\", drop=\"first\")\n",
    "\n",
    "    X_1_processed = OHE.fit_transform(X_1)\n",
    "    X_2_processed = OHE.transform(X_2)\n",
    "\n",
    "    logreg_model = LogisticRegression(C=1, max_iter=1000, n_jobs=-1, penalty=\"l2\")\n",
    "    rf_model = RandomForestClassifier(\n",
    "        random_state=1,\n",
    "        n_jobs=-1,\n",
    "        criterion=\"entropy\",\n",
    "        max_depth=10,\n",
    "        max_features=\"sqrt\",\n",
    "        n_estimators=10,\n",
    "    )\n",
    "    boosting_model = catboost.CatBoostClassifier(\n",
    "        cat_features=cols, depth=7, iterations=1000, l2_leaf_reg=0.0\n",
    "    )\n",
    "\n",
    "    logreg_model.fit(X_1_processed, y_1)\n",
    "    rf_model.fit(X_1_processed, y_1)\n",
    "    boosting_model.fit(X_1, y_1, silent=True)\n",
    "\n",
    "    X_1_stacked_predictions_encoded = encode_predict_data(\n",
    "        logreg_model, rf_model, boosting_model, X_1, X_1_processed\n",
    "    )\n",
    "\n",
    "    final_model = LogisticRegression()\n",
    "    final_model.fit(X_1_stacked_predictions_encoded, y_1)\n",
    "\n",
    "    X_2_stacked_predictions_encoded = encode_predict_data(\n",
    "        logreg_model, rf_model, boosting_model, X_2, X_2_processed\n",
    "    )\n",
    "\n",
    "    final_preds = final_model.predict(X_2_stacked_predictions_encoded)\n",
    "\n",
    "    return (\n",
    "        accuracy_score(y_2, final_preds),\n",
    "        f1_score(y_2, final_preds, average=\"macro\"),\n",
    "        OHE,\n",
    "        [logreg_model, rf_model, boosting_model],\n",
    "        final_model,\n",
    "    )"
   ]
  },
  {
   "cell_type": "code",
   "execution_count": 39,
   "id": "d16ead5e-8c13-41b4-b1ce-06996640e65f",
   "metadata": {},
   "outputs": [
    {
     "name": "stdout",
     "output_type": "stream",
     "text": [
      "Train accuracy: 0.8547717842323651, f1: 0.7762415578156042\n"
     ]
    }
   ],
   "source": [
    "train_acc, train_f1, _, _, _ = prepare_train_get_metrics(X_train, y_train, X_val, y_val)\n",
    "print(f\"Train accuracy: {train_acc}, f1: {train_f1}\")"
   ]
  },
  {
   "cell_type": "markdown",
   "id": "f38d36b7-9fad-4ab7-9caf-0702e28cd906",
   "metadata": {},
   "source": [
    "This is a worthy result. Not better than the random forest classifier or catboost, but at least the stack model is more balanced. I will check on the test data which of the two models is better: the stack model or the random forest classifier, and choose the best one."
   ]
  },
  {
   "cell_type": "markdown",
   "id": "6792ffcb-4720-4c01-9df1-93e86b224a63",
   "metadata": {},
   "source": [
    "# Train the final model and save the results"
   ]
  },
  {
   "cell_type": "markdown",
   "id": "22a22499-a339-4ad6-b18e-990070db9ec5",
   "metadata": {},
   "source": [
    "Prepare the X_test before training the final model:"
   ]
  },
  {
   "cell_type": "code",
   "execution_count": 40,
   "id": "74ec78a7-a508-47af-9160-0971ccb56935",
   "metadata": {},
   "outputs": [],
   "source": [
    "X_test.columns = X_test.columns.str.replace(\" \", \"_\").str.lower()\n",
    "X_test[cols_str] = X_test[cols_str].apply(lambda x : x.str.lower().str.replace(' ','_'))\n",
    "\n",
    "X_test.institution_type = X_test.institution_type.replace({\"government\": 1, \"non_government\": 0})\n",
    "X_test.it_student = X_test.it_student.replace({\"yes\": 1, \"no\": 0})\n",
    "X_test.location = X_test.location.replace({\"yes\": 1, \"no\": 0})\n",
    "X_test.self_lms = X_test.self_lms.replace({\"yes\": 1, \"no\": 0})\n",
    "\n",
    "X_test = X_test.fillna(0)"
   ]
  },
  {
   "cell_type": "markdown",
   "id": "ee3f9152-8659-435f-9888-edc9b0fb4dc7",
   "metadata": {},
   "source": [
    "Final model's metrics:"
   ]
  },
  {
   "cell_type": "code",
   "execution_count": 41,
   "id": "216ce49e-6f12-4433-99a4-5d3f14da282e",
   "metadata": {},
   "outputs": [
    {
     "name": "stdout",
     "output_type": "stream",
     "text": [
      "Accuracy: 0.8796680497925311, f1: 0.8312221112221111\n"
     ]
    }
   ],
   "source": [
    "full_train_acc, full_train_f1, OHE, models, stack_model = prepare_train_get_metrics(X_full_train, y_full_train, X_test, y_test)\n",
    "print(f\"Accuracy: {full_train_acc}, f1: {full_train_f1}\")"
   ]
  },
  {
   "cell_type": "markdown",
   "id": "8ed58435-50fd-4ae0-b644-17cfde651e8f",
   "metadata": {},
   "source": [
    "The score of the random forest model:"
   ]
  },
  {
   "cell_type": "code",
   "execution_count": 43,
   "id": "3d6385e5-d53a-4d48-9172-555572ac80fc",
   "metadata": {},
   "outputs": [
    {
     "name": "stdout",
     "output_type": "stream",
     "text": [
      "Accuracy:  0.6639004149377593\n",
      "F1:  0.5744401177509398\n"
     ]
    }
   ],
   "source": [
    "X_full_train_processed = preprocessor.fit_transform(X_full_train)\n",
    "X_test_processed = preprocessor.transform(X_test)\n",
    "rf_model.fit(X_full_train_processed, y_full_train.to_numpy())\n",
    "test_preds = model.predict(X_test_processed)\n",
    "\n",
    "print(\"Accuracy: \", accuracy_score(y_test, test_preds))\n",
    "print(\"F1: \", f1_score(y_test, test_preds, average='macro'))"
   ]
  },
  {
   "cell_type": "markdown",
   "id": "e7c31246-9473-4d34-ad30-bd087bac27b4",
   "metadata": {},
   "source": [
    "As I said, the stacked model didn't overfit and gave a much better result than the random forest."
   ]
  }
 ],
 "metadata": {
  "kernelspec": {
   "display_name": "Python 3 (ipykernel)",
   "language": "python",
   "name": "python3"
  },
  "language_info": {
   "codemirror_mode": {
    "name": "ipython",
    "version": 3
   },
   "file_extension": ".py",
   "mimetype": "text/x-python",
   "name": "python",
   "nbconvert_exporter": "python",
   "pygments_lexer": "ipython3",
   "version": "3.9.10"
  }
 },
 "nbformat": 4,
 "nbformat_minor": 5
}
